{
 "cells": [
  {
   "cell_type": "code",
   "execution_count": 8,
   "id": "2d36eb91",
   "metadata": {},
   "outputs": [],
   "source": [
    "from flask import Flask, render_template, redirect, url_for, request\n",
    "import pandas as pd\n",
    "import json\n",
    "import plotly\n",
    "from plotly.subplots import make_subplots\n",
    "import plotly.express as px\n",
    "import requests\n",
    "import plotly.graph_objects as go\n",
    "import numpy as np\n",
    "import os as os\n",
    "\n",
    "app = Flask(__name__)\n",
    "\n",
    "@app.route('/')\n",
    "def index():    return render_template('index.html')\n",
    "\n",
    "r = requests.get(\"https://presidentielle2022.conseil-constitutionnel.fr/telechargement/parrainagestotal.json\")\n",
    "decoded_data = r.text.encode().decode('utf-8-sig')\n",
    "d = json.loads(decoded_data)"
   ]
  },
  {
   "cell_type": "code",
   "execution_count": 30,
   "id": "7afc1583",
   "metadata": {},
   "outputs": [
    {
     "ename": "SyntaxError",
     "evalue": "invalid syntax. Perhaps you forgot a comma? (3293445017.py, line 58)",
     "output_type": "error",
     "traceback": [
      "\u001b[1;36m  Input \u001b[1;32mIn [30]\u001b[1;36m\u001b[0m\n\u001b[1;33m    margin=dict(\u001b[0m\n\u001b[1;37m           ^\u001b[0m\n\u001b[1;31mSyntaxError\u001b[0m\u001b[1;31m:\u001b[0m invalid syntax. Perhaps you forgot a comma?\n"
     ]
    }
   ],
   "source": [
    "#chargement des fichiers dans les dataframes\n",
    "pt_origin = pd.DataFrame(d)\n",
    "rf = pd.read_csv('repart_femme_ok.csv')\n",
    "transco = pd.read_csv('transco_mandat.csv')\n",
    "#merge trasnco mandat et femmes repartition\n",
    "pt_test_new_way = pd.merge(pt_origin,transco,how='left', on=['Mandat'])\n",
    "pt_test_new_way.rename(columns={\"Mandat\": \"oldMandat\"})\n",
    "#remplacer les null par des 0\n",
    "pt_test_new_way= pt_test_new_way.fillna(0)\n",
    "pt_test_new_way = pd.merge(pt_test_new_way,rf,how='left', left_on=['transco_mandat'],right_on=['Mandat'])\n",
    "pt_test_new_way= pt_test_new_way.fillna(np.NaN)\n",
    "#on supprime la colonne date de publication\n",
    "pt_test_new_way = pt_test_new_way.drop('DatePublication',axis = 1)\n",
    "#on ajoute une colonne avec le count/civ/mandat\n",
    "group_civi_mandat = pt_test_new_way.groupby([\"Candidat\",\"transco_mandat\",\"Civilite\"]).agg(total_civi_mandat = ('Nom','count'))\n",
    "pt_test_new_way = pt_test_new_way.join(group_civi_mandat['total_civi_mandat'],how='left',on=[\"Candidat\",\"transco_mandat\",\"Civilite\"])\n",
    "#on selectionne les colonnes voulues\n",
    "pt_test_new_way = pt_test_new_way[[\"Candidat\",\"Civilite\",\"total_civi_mandat\",\"transco_mandat\",\"Partdhommes\"]]\n",
    "#on supprime les doublons\n",
    "pt_test_new_way = pt_test_new_way.drop_duplicates(subset = [\"Candidat\",\"Civilite\",\"total_civi_mandat\",\"transco_mandat\",\"Partdhommes\"])\n",
    "mes_figues = []\n",
    "for Candidat,group in pt_test_new_way.sort_values(by=\"Partdhommes\",ascending=False).groupby([\"Candidat\"]):\n",
    "    monsieur=group.query('Civilite==\"M.\"')\n",
    "    mme=group.query('Civilite==\"Mme\"')\n",
    "    fig = go.Figure()\n",
    "    fig.add_trace(go.Bar(x=monsieur[\"transco_mandat\"],\n",
    "                y=monsieur['total_civi_mandat'],\n",
    "                name='M.',\n",
    "                marker_color='rgb(219, 165, 71)',\n",
    "                width=1\n",
    "                ,marker = dict(line = dict(width = 1,\n",
    "                          color = 'rgb(0, 0, 0)'))\n",
    "                )\n",
    "                  )\n",
    "    \n",
    "    fig.add_trace(go.Bar(x=mme[\"transco_mandat\"],\n",
    "                y=mme['total_civi_mandat'],\n",
    "                name='Mme',\n",
    "                marker_color='rgb(43, 150, 195)',\n",
    "                width=1\n",
    "                         ,marker = dict(line = dict(width = 1,\n",
    "                          color = 'rgb(0, 0, 0)'))\n",
    "                )\n",
    "                 )\n",
    "    fig.add_trace(go.Scatter(x=group[\"transco_mandat\"],\n",
    "                             y=group[\"Partdhommes\"], \n",
    "                             name=\"Hommes en fonction\"))\n",
    "    fig.update_layout(barmode='stack')\n",
    "    fig.update_layout(barnorm='percent')\n",
    "    fig.update_layout(showlegend=True)\n",
    "    fig.update_layout(\n",
    "        title_text=Candidat+\"| Nombre total de parrainages:\"+str(int(group[\"total_civi_mandat\"].sum()))\n",
    "    )\n",
    "    fig.update_layout(\n",
    "    autosize=False,\n",
    "    width=1000,\n",
    "    height=1000,\n",
    "    margin=dict(\n",
    "    l=50,\n",
    "    r=50,\n",
    "    b=100,\n",
    "    t=100,\n",
    "    pad=4\n",
    "    )\n",
    "    fig.show()\n",
    "    mes_figues.append(fig)"
   ]
  },
  {
   "cell_type": "code",
   "execution_count": 17,
   "id": "0deb44ae",
   "metadata": {},
   "outputs": [
    {
     "data": {
      "text/plain": [
       "15"
      ]
     },
     "execution_count": 17,
     "metadata": {},
     "output_type": "execute_result"
    }
   ],
   "source": [
    "# Création d'un seul fichier HTML\n",
    "filename=f\"{os.path.join('sortie', 'liste_complete.html')}\"\n",
    "dashboard = open(filename, 'w')\n",
    "dashboard.write(\"<html><head></head><body>\" + \"\\n\")\n",
    "include_plotlyjs = True\n",
    "\n",
    "for fig in mes_figues:\n",
    "    inner_html = fig.to_html(include_plotlyjs = include_plotlyjs).split('<body>')[1].split('</body>')[0]\n",
    "    dashboard.write(inner_html)\n",
    "    include_plotlyjs = False\n",
    "dashboard.write(\"</body></html>\" + \"\\n\")"
   ]
  }
 ],
 "metadata": {
  "kernelspec": {
   "display_name": "Python 3 (ipykernel)",
   "language": "python",
   "name": "python3"
  },
  "language_info": {
   "codemirror_mode": {
    "name": "ipython",
    "version": 3
   },
   "file_extension": ".py",
   "mimetype": "text/x-python",
   "name": "python",
   "nbconvert_exporter": "python",
   "pygments_lexer": "ipython3",
   "version": "3.10.2"
  }
 },
 "nbformat": 4,
 "nbformat_minor": 5
}
